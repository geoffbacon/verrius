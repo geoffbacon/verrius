{
 "cells": [
  {
   "cell_type": "markdown",
   "metadata": {},
   "source": [
    "# Analysis\n",
    "\n",
    "In this notebook, I analyse the results of our hyperparameter search and the errors the different models make. The notebook is structured as:\n",
    "\n",
    "1. Results\n",
    "2. Error analysis"
   ]
  },
  {
   "cell_type": "code",
   "execution_count": 1,
   "metadata": {},
   "outputs": [],
   "source": [
    "%load_ext blackcellmagic\n",
    "import json\n",
    "import os\n",
    "import pandas as pd\n",
    "\n",
    "from filenames import ROOT\n",
    "os.chdir(ROOT)"
   ]
  },
  {
   "cell_type": "markdown",
   "metadata": {},
   "source": [
    "## Results\n",
    "\n",
    "### Preliminary results\n",
    "- 201 models trained so far\n",
    "- Best single model: 0.953\n",
    "- Best averaged model: 0.949\n",
    "- Strong positive correlation between performance and token embedding size\n",
    "- Weak positive correlation between performance and character embedding size\n",
    "- Models take on average 3.5 minutes to train\n",
    "- All models achieve above 0.99 top 3 accuracy"
   ]
  },
  {
   "cell_type": "code",
   "execution_count": 2,
   "metadata": {},
   "outputs": [
    {
     "data": {
      "text/html": [
       "<div>\n",
       "<style scoped>\n",
       "    .dataframe tbody tr th:only-of-type {\n",
       "        vertical-align: middle;\n",
       "    }\n",
       "\n",
       "    .dataframe tbody tr th {\n",
       "        vertical-align: top;\n",
       "    }\n",
       "\n",
       "    .dataframe thead th {\n",
       "        text-align: right;\n",
       "    }\n",
       "</style>\n",
       "<table border=\"1\" class=\"dataframe\">\n",
       "  <thead>\n",
       "    <tr style=\"text-align: right;\">\n",
       "      <th></th>\n",
       "      <th>fold</th>\n",
       "      <th>token</th>\n",
       "      <th>char</th>\n",
       "      <th>hidden</th>\n",
       "      <th>batch</th>\n",
       "      <th>pretrained</th>\n",
       "      <th>best_epoch</th>\n",
       "      <th>training_duration</th>\n",
       "      <th>validation_accuracy</th>\n",
       "      <th>validation_accuracy3</th>\n",
       "    </tr>\n",
       "  </thead>\n",
       "  <tbody>\n",
       "    <tr>\n",
       "      <th>0</th>\n",
       "      <td>4</td>\n",
       "      <td>25</td>\n",
       "      <td>5</td>\n",
       "      <td>25</td>\n",
       "      <td>8</td>\n",
       "      <td>True</td>\n",
       "      <td>4</td>\n",
       "      <td>00:04:50.368217</td>\n",
       "      <td>0.939985</td>\n",
       "      <td>0.994044</td>\n",
       "    </tr>\n",
       "    <tr>\n",
       "      <th>1</th>\n",
       "      <td>8</td>\n",
       "      <td>200</td>\n",
       "      <td>20</td>\n",
       "      <td>25</td>\n",
       "      <td>8</td>\n",
       "      <td>True</td>\n",
       "      <td>2</td>\n",
       "      <td>00:03:03.520337</td>\n",
       "      <td>0.944656</td>\n",
       "      <td>0.996370</td>\n",
       "    </tr>\n",
       "    <tr>\n",
       "      <th>2</th>\n",
       "      <td>5</td>\n",
       "      <td>100</td>\n",
       "      <td>20</td>\n",
       "      <td>25</td>\n",
       "      <td>8</td>\n",
       "      <td>True</td>\n",
       "      <td>2</td>\n",
       "      <td>00:03:31.156595</td>\n",
       "      <td>0.948702</td>\n",
       "      <td>0.995534</td>\n",
       "    </tr>\n",
       "    <tr>\n",
       "      <th>3</th>\n",
       "      <td>3</td>\n",
       "      <td>100</td>\n",
       "      <td>20</td>\n",
       "      <td>25</td>\n",
       "      <td>8</td>\n",
       "      <td>True</td>\n",
       "      <td>3</td>\n",
       "      <td>00:04:11.575619</td>\n",
       "      <td>0.941062</td>\n",
       "      <td>0.995574</td>\n",
       "    </tr>\n",
       "    <tr>\n",
       "      <th>4</th>\n",
       "      <td>3</td>\n",
       "      <td>25</td>\n",
       "      <td>5</td>\n",
       "      <td>25</td>\n",
       "      <td>8</td>\n",
       "      <td>True</td>\n",
       "      <td>4</td>\n",
       "      <td>00:05:00.249385</td>\n",
       "      <td>0.939276</td>\n",
       "      <td>0.994060</td>\n",
       "    </tr>\n",
       "  </tbody>\n",
       "</table>\n",
       "</div>"
      ],
      "text/plain": [
       "   fold  token  char  hidden  batch pretrained  best_epoch training_duration  \\\n",
       "0     4     25     5      25      8       True           4   00:04:50.368217   \n",
       "1     8    200    20      25      8       True           2   00:03:03.520337   \n",
       "2     5    100    20      25      8       True           2   00:03:31.156595   \n",
       "3     3    100    20      25      8       True           3   00:04:11.575619   \n",
       "4     3     25     5      25      8       True           4   00:05:00.249385   \n",
       "\n",
       "   validation_accuracy  validation_accuracy3  \n",
       "0             0.939985              0.994044  \n",
       "1             0.944656              0.996370  \n",
       "2             0.948702              0.995534  \n",
       "3             0.941062              0.995574  \n",
       "4             0.939276              0.994060  "
      ]
     },
     "execution_count": 2,
     "metadata": {},
     "output_type": "execute_result"
    }
   ],
   "source": [
    "# Load relevant results into a pandas DataFrame\n",
    "DIR = \"models/pos\"\n",
    "subdirnames = os.listdir(DIR)\n",
    "results = []\n",
    "for subdirname in subdirnames:\n",
    "    try:\n",
    "        filename = os.path.join(DIR, subdirname, \"metrics.json\")\n",
    "        with open(filename) as file:\n",
    "            metrics = json.load(file)\n",
    "        fold, token, char, hidden, batch, pretrained, _ = subdirname.split(\"-\")\n",
    "        for var in [\"fold\", \"token\", \"char\", \"hidden\", \"batch\", \"pretrained\"]:\n",
    "            metrics[var] = eval(var)\n",
    "        results.append(metrics)\n",
    "    except FileNotFoundError:  # this model may still be training\n",
    "        continue\n",
    "results = pd.DataFrame(results)\n",
    "columns_to_keep = [\n",
    "    \"fold\",\n",
    "    \"token\",\n",
    "    \"char\",\n",
    "    \"hidden\",\n",
    "    \"batch\",\n",
    "    \"pretrained\",\n",
    "    \"best_epoch\",\n",
    "    \"training_duration\",\n",
    "    \"validation_accuracy\",\n",
    "    \"validation_accuracy3\",\n",
    "]\n",
    "results = results[columns_to_keep]\n",
    "columns_to_int = [\"fold\", \"token\", \"char\", \"hidden\", \"batch\"]\n",
    "for column in columns_to_int:\n",
    "    results[column] = results[column].astype(int)\n",
    "results[\"pretrained\"].replace({\"true\": True, \"false\": False}, inplace=True)\n",
    "results[\"training_duration\"] = pd.to_timedelta(results[\"training_duration\"])\n",
    "results.head()"
   ]
  },
  {
   "cell_type": "code",
   "execution_count": 3,
   "metadata": {},
   "outputs": [
    {
     "data": {
      "text/plain": [
       "201"
      ]
     },
     "execution_count": 3,
     "metadata": {},
     "output_type": "execute_result"
    }
   ],
   "source": [
    "# How many models have we trained?\n",
    "len(results)"
   ]
  },
  {
   "cell_type": "code",
   "execution_count": 4,
   "metadata": {},
   "outputs": [
    {
     "data": {
      "text/plain": [
       "0.952930482551476"
      ]
     },
     "execution_count": 4,
     "metadata": {},
     "output_type": "execute_result"
    }
   ],
   "source": [
    "# What is the best score?\n",
    "results[\"validation_accuracy\"].max()"
   ]
  },
  {
   "cell_type": "code",
   "execution_count": 5,
   "metadata": {},
   "outputs": [
    {
     "data": {
      "text/plain": [
       "fold                                         5\n",
       "token                                      300\n",
       "char                                        20\n",
       "hidden                                      25\n",
       "batch                                        8\n",
       "pretrained                                True\n",
       "best_epoch                                   2\n",
       "training_duration       0 days 00:03:34.972703\n",
       "validation_accuracy                    0.95293\n",
       "validation_accuracy3                  0.996562\n",
       "Name: 182, dtype: object"
      ]
     },
     "execution_count": 5,
     "metadata": {},
     "output_type": "execute_result"
    }
   ],
   "source": [
    "# Which model was that?\n",
    "results.iloc[results[\"validation_accuracy\"].idxmax()]"
   ]
  },
  {
   "cell_type": "code",
   "execution_count": 6,
   "metadata": {},
   "outputs": [
    {
     "data": {
      "text/plain": [
       "validation_accuracy    1.000000\n",
       "token                  0.772733\n",
       "char                   0.116105\n",
       "fold                  -0.001672\n",
       "hidden                -0.387754\n",
       "batch                       NaN\n",
       "Name: validation_accuracy, dtype: float64"
      ]
     },
     "execution_count": 6,
     "metadata": {},
     "output_type": "execute_result"
    }
   ],
   "source": [
    "# Which hyperparameters are correlated with performance?\n",
    "columns = [\"fold\", \"token\", \"char\", \"hidden\", \"batch\", \"validation_accuracy\"]\n",
    "results[columns].corr()[\"validation_accuracy\"].sort_values(ascending=False)"
   ]
  },
  {
   "cell_type": "code",
   "execution_count": 7,
   "metadata": {},
   "outputs": [
    {
     "data": {
      "text/plain": [
       "count    201.000000\n",
       "mean       0.994742\n",
       "std        0.001612\n",
       "min        0.990294\n",
       "25%        0.993712\n",
       "50%        0.995030\n",
       "75%        0.996131\n",
       "max        0.997219\n",
       "Name: validation_accuracy3, dtype: float64"
      ]
     },
     "execution_count": 7,
     "metadata": {},
     "output_type": "execute_result"
    }
   ],
   "source": [
    "# How are the models performing on top 3 accuracy?\n",
    "results[\"validation_accuracy3\"].describe()"
   ]
  },
  {
   "cell_type": "code",
   "execution_count": 8,
   "metadata": {},
   "outputs": [
    {
     "data": {
      "text/html": [
       "<div>\n",
       "<style scoped>\n",
       "    .dataframe tbody tr th:only-of-type {\n",
       "        vertical-align: middle;\n",
       "    }\n",
       "\n",
       "    .dataframe tbody tr th {\n",
       "        vertical-align: top;\n",
       "    }\n",
       "\n",
       "    .dataframe thead th {\n",
       "        text-align: right;\n",
       "    }\n",
       "</style>\n",
       "<table border=\"1\" class=\"dataframe\">\n",
       "  <thead>\n",
       "    <tr style=\"text-align: right;\">\n",
       "      <th></th>\n",
       "      <th></th>\n",
       "      <th></th>\n",
       "      <th></th>\n",
       "      <th></th>\n",
       "      <th>validation_accuracy</th>\n",
       "    </tr>\n",
       "    <tr>\n",
       "      <th>token</th>\n",
       "      <th>char</th>\n",
       "      <th>hidden</th>\n",
       "      <th>batch</th>\n",
       "      <th>pretrained</th>\n",
       "      <th></th>\n",
       "    </tr>\n",
       "  </thead>\n",
       "  <tbody>\n",
       "    <tr>\n",
       "      <th rowspan=\"6\" valign=\"top\">10</th>\n",
       "      <th>5</th>\n",
       "      <th>25</th>\n",
       "      <th>8</th>\n",
       "      <th>True</th>\n",
       "      <td>0.925274</td>\n",
       "    </tr>\n",
       "    <tr>\n",
       "      <th>20</th>\n",
       "      <th>25</th>\n",
       "      <th>8</th>\n",
       "      <th>True</th>\n",
       "      <td>0.930512</td>\n",
       "    </tr>\n",
       "    <tr>\n",
       "      <th>10</th>\n",
       "      <th>25</th>\n",
       "      <th>8</th>\n",
       "      <th>True</th>\n",
       "      <td>0.930624</td>\n",
       "    </tr>\n",
       "    <tr>\n",
       "      <th>5</th>\n",
       "      <th>50</th>\n",
       "      <th>8</th>\n",
       "      <th>True</th>\n",
       "      <td>0.931418</td>\n",
       "    </tr>\n",
       "    <tr>\n",
       "      <th>10</th>\n",
       "      <th>50</th>\n",
       "      <th>8</th>\n",
       "      <th>True</th>\n",
       "      <td>0.933555</td>\n",
       "    </tr>\n",
       "    <tr>\n",
       "      <th>20</th>\n",
       "      <th>50</th>\n",
       "      <th>8</th>\n",
       "      <th>True</th>\n",
       "      <td>0.937157</td>\n",
       "    </tr>\n",
       "    <tr>\n",
       "      <th rowspan=\"3\" valign=\"top\">25</th>\n",
       "      <th>10</th>\n",
       "      <th>25</th>\n",
       "      <th>8</th>\n",
       "      <th>True</th>\n",
       "      <td>0.938464</td>\n",
       "    </tr>\n",
       "    <tr>\n",
       "      <th>5</th>\n",
       "      <th>25</th>\n",
       "      <th>8</th>\n",
       "      <th>True</th>\n",
       "      <td>0.939472</td>\n",
       "    </tr>\n",
       "    <tr>\n",
       "      <th>20</th>\n",
       "      <th>25</th>\n",
       "      <th>8</th>\n",
       "      <th>True</th>\n",
       "      <td>0.939644</td>\n",
       "    </tr>\n",
       "    <tr>\n",
       "      <th rowspan=\"3\" valign=\"top\">50</th>\n",
       "      <th>20</th>\n",
       "      <th>25</th>\n",
       "      <th>8</th>\n",
       "      <th>True</th>\n",
       "      <td>0.942120</td>\n",
       "    </tr>\n",
       "    <tr>\n",
       "      <th>5</th>\n",
       "      <th>25</th>\n",
       "      <th>8</th>\n",
       "      <th>True</th>\n",
       "      <td>0.942482</td>\n",
       "    </tr>\n",
       "    <tr>\n",
       "      <th>10</th>\n",
       "      <th>25</th>\n",
       "      <th>8</th>\n",
       "      <th>True</th>\n",
       "      <td>0.942785</td>\n",
       "    </tr>\n",
       "    <tr>\n",
       "      <th rowspan=\"3\" valign=\"top\">100</th>\n",
       "      <th>20</th>\n",
       "      <th>25</th>\n",
       "      <th>8</th>\n",
       "      <th>True</th>\n",
       "      <td>0.944856</td>\n",
       "    </tr>\n",
       "    <tr>\n",
       "      <th>10</th>\n",
       "      <th>25</th>\n",
       "      <th>8</th>\n",
       "      <th>True</th>\n",
       "      <td>0.945334</td>\n",
       "    </tr>\n",
       "    <tr>\n",
       "      <th>5</th>\n",
       "      <th>25</th>\n",
       "      <th>8</th>\n",
       "      <th>True</th>\n",
       "      <td>0.945655</td>\n",
       "    </tr>\n",
       "    <tr>\n",
       "      <th rowspan=\"3\" valign=\"top\">200</th>\n",
       "      <th>5</th>\n",
       "      <th>25</th>\n",
       "      <th>8</th>\n",
       "      <th>True</th>\n",
       "      <td>0.947596</td>\n",
       "    </tr>\n",
       "    <tr>\n",
       "      <th>20</th>\n",
       "      <th>25</th>\n",
       "      <th>8</th>\n",
       "      <th>True</th>\n",
       "      <td>0.947854</td>\n",
       "    </tr>\n",
       "    <tr>\n",
       "      <th>10</th>\n",
       "      <th>25</th>\n",
       "      <th>8</th>\n",
       "      <th>True</th>\n",
       "      <td>0.948617</td>\n",
       "    </tr>\n",
       "    <tr>\n",
       "      <th rowspan=\"3\" valign=\"top\">300</th>\n",
       "      <th>5</th>\n",
       "      <th>25</th>\n",
       "      <th>8</th>\n",
       "      <th>True</th>\n",
       "      <td>0.948725</td>\n",
       "    </tr>\n",
       "    <tr>\n",
       "      <th>10</th>\n",
       "      <th>25</th>\n",
       "      <th>8</th>\n",
       "      <th>True</th>\n",
       "      <td>0.949112</td>\n",
       "    </tr>\n",
       "    <tr>\n",
       "      <th>20</th>\n",
       "      <th>25</th>\n",
       "      <th>8</th>\n",
       "      <th>True</th>\n",
       "      <td>0.949187</td>\n",
       "    </tr>\n",
       "  </tbody>\n",
       "</table>\n",
       "</div>"
      ],
      "text/plain": [
       "                                    validation_accuracy\n",
       "token char hidden batch pretrained                     \n",
       "10    5    25     8     True                   0.925274\n",
       "      20   25     8     True                   0.930512\n",
       "      10   25     8     True                   0.930624\n",
       "      5    50     8     True                   0.931418\n",
       "      10   50     8     True                   0.933555\n",
       "      20   50     8     True                   0.937157\n",
       "25    10   25     8     True                   0.938464\n",
       "      5    25     8     True                   0.939472\n",
       "      20   25     8     True                   0.939644\n",
       "50    20   25     8     True                   0.942120\n",
       "      5    25     8     True                   0.942482\n",
       "      10   25     8     True                   0.942785\n",
       "100   20   25     8     True                   0.944856\n",
       "      10   25     8     True                   0.945334\n",
       "      5    25     8     True                   0.945655\n",
       "200   5    25     8     True                   0.947596\n",
       "      20   25     8     True                   0.947854\n",
       "      10   25     8     True                   0.948617\n",
       "300   5    25     8     True                   0.948725\n",
       "      10   25     8     True                   0.949112\n",
       "      20   25     8     True                   0.949187"
      ]
     },
     "execution_count": 8,
     "metadata": {},
     "output_type": "execute_result"
    }
   ],
   "source": [
    "# How do the models compare when averaging over the cross-validation folds?\n",
    "hyperparams = [\"token\", \"char\", \"hidden\", \"batch\", \"pretrained\"]\n",
    "results.groupby(hyperparams)[\"validation_accuracy\"].mean().to_frame().sort_values(\n",
    "    by=\"validation_accuracy\"\n",
    ")"
   ]
  },
  {
   "cell_type": "code",
   "execution_count": 9,
   "metadata": {},
   "outputs": [
    {
     "data": {
      "text/plain": [
       "count                       201\n",
       "mean     0 days 00:04:53.046505\n",
       "std      0 days 00:01:35.293417\n",
       "min      0 days 00:02:11.441762\n",
       "25%      0 days 00:03:34.949977\n",
       "50%      0 days 00:04:20.673414\n",
       "75%      0 days 00:05:58.602896\n",
       "max      0 days 00:09:21.750568\n",
       "Name: training_duration, dtype: object"
      ]
     },
     "execution_count": 9,
     "metadata": {},
     "output_type": "execute_result"
    }
   ],
   "source": [
    "# How long are the models taking to train?\n",
    "results[\"training_duration\"].describe()"
   ]
  },
  {
   "cell_type": "code",
   "execution_count": 10,
   "metadata": {},
   "outputs": [
    {
     "data": {
      "text/plain": [
       "count    201.000000\n",
       "mean       3.572139\n",
       "std        1.801671\n",
       "min        1.000000\n",
       "25%        2.000000\n",
       "50%        3.000000\n",
       "75%        5.000000\n",
       "max        8.000000\n",
       "Name: best_epoch, dtype: float64"
      ]
     },
     "execution_count": 10,
     "metadata": {},
     "output_type": "execute_result"
    }
   ],
   "source": [
    "# How many epochs are the models taking?\n",
    "results[\"best_epoch\"].describe()"
   ]
  },
  {
   "cell_type": "markdown",
   "metadata": {},
   "source": [
    "## Error analysis"
   ]
  },
  {
   "cell_type": "code",
   "execution_count": null,
   "metadata": {},
   "outputs": [],
   "source": []
  }
 ],
 "metadata": {
  "kernelspec": {
   "display_name": "Python 3",
   "language": "python",
   "name": "python3"
  },
  "language_info": {
   "codemirror_mode": {
    "name": "ipython",
    "version": 3
   },
   "file_extension": ".py",
   "mimetype": "text/x-python",
   "name": "python",
   "nbconvert_exporter": "python",
   "pygments_lexer": "ipython3",
   "version": "3.7.5"
  }
 },
 "nbformat": 4,
 "nbformat_minor": 4
}
