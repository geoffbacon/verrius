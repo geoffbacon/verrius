{
 "cells": [
  {
   "cell_type": "markdown",
   "metadata": {},
   "source": [
    "# Exploratory data analysis\n",
    "\n",
    "In this notebook, I perform some exploratory data analysis (EDA) of the EvaLatin dataset. The goal is to find insights that I can leverage in the modeling stage. This analysis is structured in four sections, each focusing on a different level of the data:\n",
    "\n",
    "1. Dataset\n",
    "2. Forms\n",
    "3. POS\n",
    "4. Lemmata"
   ]
  },
  {
   "cell_type": "code",
   "execution_count": 1,
   "metadata": {},
   "outputs": [],
   "source": [
    "%load_ext blackcellmagic\n",
    "%matplotlib inline\n",
    "import os\n",
    "import re\n",
    "import unicodedata\n",
    "import pandas as pd\n",
    "import matplotlib.pyplot as plt\n",
    "import seaborn as sns\n",
    "sns.set()\n",
    "from segments import Profile\n",
    "from utils import read\n",
    "\n",
    "\n",
    "from filenames import ROOT, RAW_EVALATIN_DATA, GRAPHEME_PROFILE\n",
    "\n",
    "os.chdir(ROOT)\n",
    "BLUE = sns.color_palette()[0]"
   ]
  },
  {
   "cell_type": "code",
   "execution_count": 2,
   "metadata": {},
   "outputs": [],
   "source": [
    "# Read in all data into a single pyconll CoNLL structure\n",
    "conll = read()\n",
    "\n",
    "# Read in all data into a pandas DataFrame\n",
    "data = []\n",
    "for sentence in conll:\n",
    "    for token in sentence:\n",
    "        d = {\"form\": token.form, \"lemma\": token.lemma, \"pos\": token.upos}\n",
    "        data.append(d)\n",
    "df = pd.DataFrame(data)"
   ]
  },
  {
   "cell_type": "markdown",
   "metadata": {},
   "source": [
    "### Dataset\n",
    "\n",
    "#### Summary\n",
    "\n",
    "- There are 14,399 sentences in the training data.\n",
    "- There are 259,645 tokens in the training data. The official guidelines say 259,646 but I'm not too worried about this discrepency.\n",
    "- Most (75%) sentences have under 24 tokens, with the average having 18. The vast majority (95%) of sentences have at most 40 tokens.\n",
    "- There are no punctuation or end of sentence markers.\n",
    "\n",
    "#### Notes\n",
    "\n",
    "- Both the POS and lemmatization task make most sense at the sentence level, although you could try type-level approaches.\n",
    "- The dataset is sizeable but not huge, so it could be worth investigating external unlabelled data, external labelled data and data augmentation methods\n",
    "- Sentence lengths aren't too long, so models forgetting context is not a pressing concern.\n",
    "- We'll have to add beginning and end of sentence markers."
   ]
  },
  {
   "cell_type": "code",
   "execution_count": 3,
   "metadata": {},
   "outputs": [
    {
     "data": {
      "text/plain": [
       "14399"
      ]
     },
     "execution_count": 3,
     "metadata": {},
     "output_type": "execute_result"
    }
   ],
   "source": [
    "# How many sentences are there?\n",
    "len(conll)"
   ]
  },
  {
   "cell_type": "code",
   "execution_count": 4,
   "metadata": {},
   "outputs": [
    {
     "data": {
      "text/plain": [
       "259645"
      ]
     },
     "execution_count": 4,
     "metadata": {},
     "output_type": "execute_result"
    }
   ],
   "source": [
    "# How many tokens are there?\n",
    "sum(map(len, conll))"
   ]
  },
  {
   "cell_type": "code",
   "execution_count": 5,
   "metadata": {},
   "outputs": [
    {
     "data": {
      "text/plain": [
       "count    14399.000000\n",
       "mean        18.032155\n",
       "std         12.556631\n",
       "min          1.000000\n",
       "25%         10.000000\n",
       "50%         16.000000\n",
       "75%         24.000000\n",
       "max        328.000000\n",
       "dtype: float64"
      ]
     },
     "execution_count": 5,
     "metadata": {},
     "output_type": "execute_result"
    }
   ],
   "source": [
    "# What is the distribution of sentence length?\n",
    "sentence_lengths = pd.Series([len(s) for s in conll])\n",
    "sentence_lengths.describe()"
   ]
  },
  {
   "cell_type": "code",
   "execution_count": 6,
   "metadata": {},
   "outputs": [
    {
     "data": {
      "image/png": "[encoded data removed]",
      "text/plain": [
       "<Figure size 864x576 with 1 Axes>"
      ]
     },
     "metadata": {},
     "output_type": "display_data"
    }
   ],
   "source": [
    "# Now we show sentence length visually\n",
    "plt.figure(figsize=(12, 8))\n",
    "plt.xlim((0, 100))\n",
    "sns.distplot(sentence_lengths, bins=300, kde=False);"
   ]
  },
  {
   "cell_type": "code",
   "execution_count": 7,
   "metadata": {},
   "outputs": [
    {
     "data": {
      "text/plain": [
       "True     95.339954\n",
       "False     4.660046\n",
       "dtype: float64"
      ]
     },
     "execution_count": 7,
     "metadata": {},
     "output_type": "execute_result"
    }
   ],
   "source": [
    "# This shows the percent of sentences with at most 40 tokens.\n",
    "(sentence_lengths <= 40).value_counts(normalize=True) * 100"
   ]
  },
  {
   "cell_type": "markdown",
   "metadata": {},
   "source": [
    "### Forms\n",
    "\n",
    "Here, we are counting characters not graphemes.\n",
    "\n",
    "#### Summary\n",
    "\n",
    "- There are 43,767 unique forms in the training data, of which more than half (24,376) only appear once. The vast majority (90%) of forms appear at most 7 times in the training data.\n",
    "- Most forms have at most 8 characters, with the average form having around 6. The vast majority (95%) of words have at most 10 characters.\n",
    "- There are 126 different characters in the training data.\n",
    "- These characters fall into one of four classes:\n",
    "    - Latin\n",
    "    - Greek\n",
    "    - Full stop\n",
    "    - Other\n",
    "- Over 98% of the Latin characters are lower case.\n",
    "- Full stops are used in four different ways:\n",
    "    - In abbreviations of proper nouns (following the regex `[A-Z].*\\.`)\n",
    "    - In lacunae (following the regex `\\.\\.\\.`)\n",
    "    - For the noun \"salus\", almost always preceded by \"suus\".\n",
    "    - Other abbreviations, whose full form is not found elsewhere in the sentence.\n",
    "- Capitalization is used in four different ways:\n",
    "    - As the first character of a sentence\n",
    "    - As the first character of a proper noun (abbreviated and not)\n",
    "    - In Roman numerals\n",
    "    - In \"HS\"\n",
    "- About half the forms that end with \"-que\" are the clitic \"-que\".\n",
    "\n",
    "#### Notes\n",
    "\n",
    "- The large number of forms, and especially the large number of hapax legomena, suggest the need to include character-based methods.\n",
    "- The large number of forms with few examples in the training data suggest that the test data will also have many infrequent forms too. This lends further support for character-based methods, and context-based methods.\n",
    "- We can massively reduce the size of the character vocabulary by focusing on Latin characters.\n",
    "- If we're just focusing on Latin characters, we could again halve the size of the character vocabulary if we focus on lower case characters. However, they are a huge signal for proper nouns (abbreviated or not).\n",
    "- We could replace all Greek words with a single Greek character."
   ]
  },
  {
   "cell_type": "code",
   "execution_count": 8,
   "metadata": {},
   "outputs": [
    {
     "data": {
      "text/plain": [
       "count    259645.000000\n",
       "mean          5.899802\n",
       "std           2.766474\n",
       "min           1.000000\n",
       "25%           4.000000\n",
       "50%           6.000000\n",
       "75%           8.000000\n",
       "max          20.000000\n",
       "Name: form, dtype: float64"
      ]
     },
     "execution_count": 8,
     "metadata": {},
     "output_type": "execute_result"
    }
   ],
   "source": [
    "# What is the distribution of number of characters per form?\n",
    "word_lengths = df[\"form\"].str.len()\n",
    "word_lengths.describe()"
   ]
  },
  {
   "cell_type": "code",
   "execution_count": 9,
   "metadata": {},
   "outputs": [
    {
     "data": {
      "text/plain": [
       "True     94.172043\n",
       "False     5.827957\n",
       "Name: form, dtype: float64"
      ]
     },
     "execution_count": 9,
     "metadata": {},
     "output_type": "execute_result"
    }
   ],
   "source": [
    "# This shows the percent of words with at most 10 characters.\n",
    "(word_lengths <= 10).value_counts(normalize=True) * 100"
   ]
  },
  {
   "cell_type": "code",
   "execution_count": 10,
   "metadata": {},
   "outputs": [
    {
     "data": {
      "text/plain": [
       "i    178050\n",
       "e    175860\n",
       "u    145667\n",
       "a    125529\n",
       "t    124390\n",
       "      ...  \n",
       "Ἐ         1\n",
       "Κ         1\n",
       "ὕ         1\n",
       "̔         1\n",
       "ἱ         1\n",
       "Length: 126, dtype: int64"
      ]
     },
     "execution_count": 10,
     "metadata": {},
     "output_type": "execute_result"
    }
   ],
   "source": [
    "# What is the character set used in the forms?\n",
    "chars = pd.Series(list(\"\".join(df[\"form\"].values)))\n",
    "chars.value_counts()"
   ]
  },
  {
   "cell_type": "code",
   "execution_count": 11,
   "metadata": {},
   "outputs": [
    {
     "data": {
      "text/plain": [
       "GREEK             74\n",
       "LATIN             47\n",
       "APOSTROPHE         1\n",
       "COMBINING          1\n",
       "FULL               1\n",
       "RIGHT-POINTING     1\n",
       "LEFT-POINTING      1\n",
       "dtype: int64"
      ]
     },
     "execution_count": 11,
     "metadata": {},
     "output_type": "execute_result"
    }
   ],
   "source": [
    "# What classes of characters are there?\n",
    "char_class = lambda ch: unicodedata.name(ch).split()[0]\n",
    "pd.Series(chars.unique()).apply(char_class).value_counts()"
   ]
  },
  {
   "cell_type": "code",
   "execution_count": 12,
   "metadata": {},
   "outputs": [
    {
     "data": {
      "text/plain": [
       "lower    0.985058\n",
       "upper    0.014942\n",
       "Name: case, dtype: float64"
      ]
     },
     "execution_count": 12,
     "metadata": {},
     "output_type": "execute_result"
    }
   ],
   "source": [
    "# What is the distribution of upper and lower Latin characters?\n",
    "is_latin = lambda ch: char_class(ch) == \"LATIN\"\n",
    "case = lambda ch: \"upper\" if ch.isupper() else \"lower\"\n",
    "chars_df = chars.to_frame(\"char\")\n",
    "chars_df[\"latin\"] = chars_df[\"char\"].apply(is_latin)\n",
    "chars_df[\"case\"] = chars_df[\"char\"].apply(case)\n",
    "chars_df[chars_df[\"latin\"]][\"case\"].value_counts(normalize=True)"
   ]
  },
  {
   "cell_type": "code",
   "execution_count": 13,
   "metadata": {},
   "outputs": [
    {
     "data": {
      "text/plain": [
       "PROPN    984\n",
       "NOUN     220\n",
       "ADP        5\n",
       "X          3\n",
       "ADJ        2\n",
       "Name: pos, dtype: int64"
      ]
     },
     "execution_count": 13,
     "metadata": {},
     "output_type": "execute_result"
    }
   ],
   "source": [
    "# How are full stops used?\n",
    "full_stop_pattern = re.compile(r\"\\.\")\n",
    "has_full_stop = df[\"form\"].str.contains(full_stop_pattern)\n",
    "df[has_full_stop][\"pos\"].value_counts()"
   ]
  },
  {
   "cell_type": "code",
   "execution_count": 14,
   "metadata": {},
   "outputs": [
    {
     "data": {
      "text/plain": [
       "PROPN    984\n",
       "NOUN       3\n",
       "ADJ        2\n",
       "Name: pos, dtype: int64"
      ]
     },
     "execution_count": 14,
     "metadata": {},
     "output_type": "execute_result"
    }
   ],
   "source": [
    "# abbreviations\n",
    "abbreviation_pattern = re.compile(r\"[A-Z].*\\.\")\n",
    "is_abbreviation = df[\"form\"].str.contains(abbreviation_pattern)\n",
    "df[is_abbreviation][\"pos\"].value_counts()"
   ]
  },
  {
   "cell_type": "code",
   "execution_count": 15,
   "metadata": {},
   "outputs": [
    {
     "data": {
      "text/html": [
       "<div>\n",
       "<style scoped>\n",
       "    .dataframe tbody tr th:only-of-type {\n",
       "        vertical-align: middle;\n",
       "    }\n",
       "\n",
       "    .dataframe tbody tr th {\n",
       "        vertical-align: top;\n",
       "    }\n",
       "\n",
       "    .dataframe thead th {\n",
       "        text-align: right;\n",
       "    }\n",
       "</style>\n",
       "<table border=\"1\" class=\"dataframe\">\n",
       "  <thead>\n",
       "    <tr style=\"text-align: right;\">\n",
       "      <th></th>\n",
       "      <th>form</th>\n",
       "      <th>lemma</th>\n",
       "      <th>pos</th>\n",
       "    </tr>\n",
       "  </thead>\n",
       "  <tbody>\n",
       "    <tr>\n",
       "      <th>217979</th>\n",
       "      <td>p...</td>\n",
       "      <td>uox_lacunosa</td>\n",
       "      <td>X</td>\n",
       "    </tr>\n",
       "    <tr>\n",
       "      <th>244065</th>\n",
       "      <td>...</td>\n",
       "      <td>uox_lacunosa</td>\n",
       "      <td>X</td>\n",
       "    </tr>\n",
       "    <tr>\n",
       "      <th>247156</th>\n",
       "      <td>...</td>\n",
       "      <td>uox_lacunosa</td>\n",
       "      <td>X</td>\n",
       "    </tr>\n",
       "  </tbody>\n",
       "</table>\n",
       "</div>"
      ],
      "text/plain": [
       "        form         lemma pos\n",
       "217979  p...  uox_lacunosa   X\n",
       "244065   ...  uox_lacunosa   X\n",
       "247156   ...  uox_lacunosa   X"
      ]
     },
     "execution_count": 15,
     "metadata": {},
     "output_type": "execute_result"
    }
   ],
   "source": [
    "# lacunae\n",
    "lacuna_pattern = re.compile(r\"\\.\\.\\.\")\n",
    "is_lacuna = df[\"form\"].str.contains(lacuna_pattern)\n",
    "df[is_lacuna]"
   ]
  },
  {
   "cell_type": "code",
   "execution_count": 16,
   "metadata": {},
   "outputs": [
    {
     "data": {
      "text/plain": [
       "suo        197\n",
       "suae         8\n",
       "Cottiae      1\n",
       "Socrui       1\n",
       "dtype: int64"
      ]
     },
     "execution_count": 16,
     "metadata": {},
     "output_type": "execute_result"
    }
   ],
   "source": [
    "# salus\n",
    "is_salus = df[\"lemma\"] == \"salus\"\n",
    "pd.Series(\n",
    "    [df.loc[i - 1][\"form\"] for i in df[has_full_stop & is_salus].index]\n",
    ").value_counts()"
   ]
  },
  {
   "cell_type": "code",
   "execution_count": 17,
   "metadata": {},
   "outputs": [
    {
     "data": {
      "text/plain": [
       "d.       5\n",
       "a.       5\n",
       "f.       3\n",
       "coss.    1\n",
       "kal.     1\n",
       "Name: form, dtype: int64"
      ]
     },
     "execution_count": 17,
     "metadata": {},
     "output_type": "execute_result"
    }
   ],
   "source": [
    "# remaining\n",
    "df[has_full_stop & ~is_abbreviation & ~is_lacuna & ~is_salus][\"form\"].value_counts()"
   ]
  },
  {
   "cell_type": "code",
   "execution_count": 18,
   "metadata": {},
   "outputs": [
    {
     "data": {
      "text/html": [
       "<div>\n",
       "<style scoped>\n",
       "    .dataframe tbody tr th:only-of-type {\n",
       "        vertical-align: middle;\n",
       "    }\n",
       "\n",
       "    .dataframe tbody tr th {\n",
       "        vertical-align: top;\n",
       "    }\n",
       "\n",
       "    .dataframe thead th {\n",
       "        text-align: right;\n",
       "    }\n",
       "</style>\n",
       "<table border=\"1\" class=\"dataframe\">\n",
       "  <thead>\n",
       "    <tr style=\"text-align: right;\">\n",
       "      <th></th>\n",
       "      <th>form</th>\n",
       "      <th>lemma</th>\n",
       "      <th>pos</th>\n",
       "    </tr>\n",
       "  </thead>\n",
       "  <tbody>\n",
       "    <tr>\n",
       "      <th>0</th>\n",
       "      <td>Dum</td>\n",
       "      <td>dum</td>\n",
       "      <td>SCONJ</td>\n",
       "    </tr>\n",
       "    <tr>\n",
       "      <th>3</th>\n",
       "      <td>Hispania</td>\n",
       "      <td>Hispania</td>\n",
       "      <td>PROPN</td>\n",
       "    </tr>\n",
       "    <tr>\n",
       "      <th>5</th>\n",
       "      <td>C.</td>\n",
       "      <td>Gaius</td>\n",
       "      <td>PROPN</td>\n",
       "    </tr>\n",
       "    <tr>\n",
       "      <th>6</th>\n",
       "      <td>Trebonius</td>\n",
       "      <td>Trebonius</td>\n",
       "      <td>PROPN</td>\n",
       "    </tr>\n",
       "    <tr>\n",
       "      <th>11</th>\n",
       "      <td>Massiliae</td>\n",
       "      <td>Massilia</td>\n",
       "      <td>PROPN</td>\n",
       "    </tr>\n",
       "    <tr>\n",
       "      <th>...</th>\n",
       "      <td>...</td>\n",
       "      <td>...</td>\n",
       "      <td>...</td>\n",
       "    </tr>\n",
       "    <tr>\n",
       "      <th>259638</th>\n",
       "      <td>Syria</td>\n",
       "      <td>Syria</td>\n",
       "      <td>PROPN</td>\n",
       "    </tr>\n",
       "    <tr>\n",
       "      <th>259639</th>\n",
       "      <td>Aponius</td>\n",
       "      <td>Aponius</td>\n",
       "      <td>PROPN</td>\n",
       "    </tr>\n",
       "    <tr>\n",
       "      <th>259641</th>\n",
       "      <td>Moesia</td>\n",
       "      <td>Moesia</td>\n",
       "      <td>PROPN</td>\n",
       "    </tr>\n",
       "    <tr>\n",
       "      <th>259642</th>\n",
       "      <td>Flauianus</td>\n",
       "      <td>Flauianus</td>\n",
       "      <td>PROPN</td>\n",
       "    </tr>\n",
       "    <tr>\n",
       "      <th>259644</th>\n",
       "      <td>Pannonia</td>\n",
       "      <td>Pannonia</td>\n",
       "      <td>PROPN</td>\n",
       "    </tr>\n",
       "  </tbody>\n",
       "</table>\n",
       "<p>22506 rows × 3 columns</p>\n",
       "</div>"
      ],
      "text/plain": [
       "             form      lemma    pos\n",
       "0             Dum        dum  SCONJ\n",
       "3        Hispania   Hispania  PROPN\n",
       "5              C.      Gaius  PROPN\n",
       "6       Trebonius  Trebonius  PROPN\n",
       "11      Massiliae   Massilia  PROPN\n",
       "...           ...        ...    ...\n",
       "259638      Syria      Syria  PROPN\n",
       "259639    Aponius    Aponius  PROPN\n",
       "259641     Moesia     Moesia  PROPN\n",
       "259642  Flauianus  Flauianus  PROPN\n",
       "259644   Pannonia   Pannonia  PROPN\n",
       "\n",
       "[22506 rows x 3 columns]"
      ]
     },
     "execution_count": 18,
     "metadata": {},
     "output_type": "execute_result"
    }
   ],
   "source": [
    "# How is capitalization used?\n",
    "capital_pattern = re.compile(r\"[A-Z]\")\n",
    "has_capital_letter = df[\"form\"].str.contains(capital_pattern)\n",
    "df[has_capital_letter]"
   ]
  },
  {
   "cell_type": "code",
   "execution_count": 19,
   "metadata": {},
   "outputs": [
    {
     "data": {
      "text/plain": [
       "43767"
      ]
     },
     "execution_count": 19,
     "metadata": {},
     "output_type": "execute_result"
    }
   ],
   "source": [
    "# How many unique forms are there?\n",
    "len(df[\"form\"].unique())"
   ]
  },
  {
   "cell_type": "code",
   "execution_count": 20,
   "metadata": {},
   "outputs": [
    {
     "data": {
      "text/plain": [
       "24376"
      ]
     },
     "execution_count": 20,
     "metadata": {},
     "output_type": "execute_result"
    }
   ],
   "source": [
    "# How many hapax legomena are there?\n",
    "word_counts = df[\"form\"].value_counts()\n",
    "(word_counts == 1).sum()"
   ]
  },
  {
   "cell_type": "code",
   "execution_count": 21,
   "metadata": {},
   "outputs": [
    {
     "data": {
      "text/plain": [
       "True     0.90173\n",
       "False    0.09827\n",
       "Name: form, dtype: float64"
      ]
     },
     "execution_count": 21,
     "metadata": {},
     "output_type": "execute_result"
    }
   ],
   "source": [
    "(word_counts <= 7).value_counts(normalize=True)"
   ]
  },
  {
   "cell_type": "code",
   "execution_count": 22,
   "metadata": {},
   "outputs": [
    {
     "data": {
      "text/plain": [
       "False    0.538761\n",
       "True     0.461239\n",
       "Name: lemma, dtype: float64"
      ]
     },
     "execution_count": 22,
     "metadata": {},
     "output_type": "execute_result"
    }
   ],
   "source": [
    "# How many forms have the clitic \"-que\"?\n",
    "que_form = df[\"form\"].str.endswith(\"que\")\n",
    "df[que_form][\"lemma\"].str.endswith(\"que\").value_counts(normalize=True)"
   ]
  },
  {
   "cell_type": "markdown",
   "metadata": {},
   "source": [
    "### POS\n",
    "\n",
    "#### Summary\n",
    "\n",
    "- There are 15 different POS tags, just as the official guideline states.\n",
    "- Nouns and verbs are by far the most frequent POS tags.\n",
    "- By frequency, there are three classes of POS tags:\n",
    "    - NOUN and VERB are in the most frequenct class, each accounting for around 23% of all tokens, totalling over 45% together. \n",
    "    - The next class consists of ADJ, ADV, PRON, DET, CCONJ, ADP, PROPN, SCONJ and PART tags, and each account for 1-8% of tags.\n",
    "    - The last class consists of AUX, NUM, X and INTJ tags, which each account for less than 1% of tokens.\n",
    "- NOUN, VERB, ADJ and PRON need root, morphology and syntactic context to identify them.\n",
    "- ADV, DET, ADP and CCONJ are more tied to a particular form/root.\n",
    "- PART is only negatives \"non\", \"ne\" and \"haud\",  but these can also be SCONJ or ADV.\n",
    "- AUX are forms of sum or eo, as the official guide mentions.\n",
    "- NUM are cardinal numbers or roman numerals.\n",
    "- INTJ can largely be distinguished by their form, which comes from a small set of forms (most are \"O\" or \"hercule\"). However, there is still variation (\"age\", \"malus\"). Context should identify them. Most of the \"O\" INTJ are sentence-initial.\n",
    "\n",
    "#### Notes\n",
    "\n",
    "- As a baseline, if you just guessed NOUN for each token, you'd have an accuracy of 23%.\n",
    "- The different information useful to identify the POS are root, the inflectional morphology, the derivational morphology, the syntactic context and the linear order in the sentence.\n",
    "- Having contextual models is important.\n",
    "- Having word-type representations is important for those tags that are strongly lexical (e.g. CCONJ, DET, ADV, INTJ).\n",
    "- Having character-based models is important for those with morphology.\n",
    "- Having sentence position information will help identify some tags (e.g. INTJ), so we should include beginning and end of sentence markers.\n",
    "- Add end of word markers to help model suffixes.\n",
    "- Start/end sentence marker, start/end word marker, characters and type representations."
   ]
  },
  {
   "cell_type": "code",
   "execution_count": 23,
   "metadata": {},
   "outputs": [
    {
     "data": {
      "text/plain": [
       "15"
      ]
     },
     "execution_count": 23,
     "metadata": {},
     "output_type": "execute_result"
    }
   ],
   "source": [
    "# How many POS tags are there?\n",
    "len(df[\"pos\"].unique())"
   ]
  },
  {
   "cell_type": "code",
   "execution_count": 24,
   "metadata": {},
   "outputs": [
    {
     "data": {
      "text/plain": [
       "NOUN     23.899940\n",
       "VERB     22.632826\n",
       "ADJ       8.295172\n",
       "ADV       7.928903\n",
       "PRON      7.569951\n",
       "DET       6.373317\n",
       "CCONJ     6.170733\n",
       "ADP       6.082151\n",
       "PROPN     4.872037\n",
       "SCONJ     3.263687\n",
       "PART      1.512065\n",
       "AUX       0.663213\n",
       "NUM       0.613145\n",
       "X         0.071251\n",
       "INTJ      0.051609\n",
       "Name: pos, dtype: float64"
      ]
     },
     "execution_count": 24,
     "metadata": {},
     "output_type": "execute_result"
    }
   ],
   "source": [
    "# What is the distribution of POS tags?\n",
    "df[\"pos\"].value_counts(normalize=True) * 100"
   ]
  },
  {
   "cell_type": "code",
   "execution_count": 25,
   "metadata": {},
   "outputs": [
    {
     "data": {
      "text/plain": [
       "<matplotlib.axes._subplots.AxesSubplot at 0x7fc60f9a0590>"
      ]
     },
     "execution_count": 25,
     "metadata": {},
     "output_type": "execute_result"
    },
    {
     "data": {
      "image/png": "[encoded data removed]",
      "text/plain": [
       "<Figure size 864x576 with 1 Axes>"
      ]
     },
     "metadata": {},
     "output_type": "display_data"
    }
   ],
   "source": [
    "# Now we show it visually with raw counts\n",
    "order = df[\"pos\"].value_counts().index\n",
    "plt.figure(figsize=(12, 8))\n",
    "sns.countplot(x=\"pos\", data=df, order=order, color=BLUE);"
   ]
  },
  {
   "cell_type": "code",
   "execution_count": 26,
   "metadata": {},
   "outputs": [
    {
     "data": {
      "text/plain": [
       "beneficium    399\n",
       "rei           364\n",
       "causa         315\n",
       "res           310\n",
       "re            283\n",
       "Name: form, dtype: int64"
      ]
     },
     "execution_count": 26,
     "metadata": {},
     "output_type": "execute_result"
    }
   ],
   "source": [
    "# What do NOUN look like?\n",
    "# Not much here beyond normal Latin morphology\n",
    "noun = df[\"pos\"] == \"NOUN\"\n",
    "noun_counts = df[noun][\"form\"].value_counts()\n",
    "noun_counts.head()"
   ]
  },
  {
   "cell_type": "code",
   "execution_count": 27,
   "metadata": {},
   "outputs": [
    {
     "data": {
      "text/plain": [
       "est     2085\n",
       "esse     798\n",
       "sunt     445\n",
       "sit      377\n",
       "fuit     336\n",
       "Name: form, dtype: int64"
      ]
     },
     "execution_count": 27,
     "metadata": {},
     "output_type": "execute_result"
    }
   ],
   "source": [
    "# What do VERB look like?\n",
    "# Not much here beyond normal Latin morphology\n",
    "verb = df[\"pos\"] == \"VERB\"\n",
    "verb_counts = df[verb][\"form\"].value_counts()\n",
    "verb_counts.head()"
   ]
  },
  {
   "cell_type": "code",
   "execution_count": 28,
   "metadata": {},
   "outputs": [
    {
     "data": {
      "text/plain": [
       "publicae    244\n",
       "Romani      212\n",
       "publica     190\n",
       "magna       168\n",
       "multa       160\n",
       "Name: form, dtype: int64"
      ]
     },
     "execution_count": 28,
     "metadata": {},
     "output_type": "execute_result"
    }
   ],
   "source": [
    "# What do ADJ look like?\n",
    "# Not much here beyond normal Latin morphology\n",
    "adj = df[\"pos\"] == \"ADJ\"\n",
    "adj_counts = df[adj][\"form\"].value_counts()\n",
    "adj_counts.head()"
   ]
  },
  {
   "cell_type": "code",
   "execution_count": 29,
   "metadata": {},
   "outputs": [
    {
     "data": {
      "text/plain": [
       "quam      1320\n",
       "etiam      939\n",
       "ut         790\n",
       "tamen      642\n",
       "quidem     641\n",
       "Name: form, dtype: int64"
      ]
     },
     "execution_count": 29,
     "metadata": {},
     "output_type": "execute_result"
    }
   ],
   "source": [
    "# What do ADV look like?\n",
    "adv = df[\"pos\"] == \"ADV\"\n",
    "adv_counts = df[adv][\"form\"].value_counts()\n",
    "adv_counts.head()"
   ]
  },
  {
   "cell_type": "code",
   "execution_count": 30,
   "metadata": {},
   "outputs": [
    {
     "data": {
      "text/plain": [
       "qui     1807\n",
       "quae    1253\n",
       "quod    1189\n",
       "se      1139\n",
       "me       738\n",
       "Name: form, dtype: int64"
      ]
     },
     "execution_count": 30,
     "metadata": {},
     "output_type": "execute_result"
    }
   ],
   "source": [
    "# What do PRON look like?\n",
    "pron = df[\"pos\"] == \"PRON\"\n",
    "pron_counts = df[pron][\"form\"].value_counts()\n",
    "pron_counts.head()"
   ]
  },
  {
   "cell_type": "code",
   "execution_count": 31,
   "metadata": {},
   "outputs": [
    {
     "data": {
      "text/plain": [
       "hoc     771\n",
       "ipse    381\n",
       "ille    366\n",
       "haec    358\n",
       "illi    351\n",
       "Name: form, dtype: int64"
      ]
     },
     "execution_count": 31,
     "metadata": {},
     "output_type": "execute_result"
    }
   ],
   "source": [
    "# What do DET look like?\n",
    "det = df[\"pos\"] == \"DET\"\n",
    "det_counts = df[det][\"form\"].value_counts()\n",
    "det_counts.head()"
   ]
  },
  {
   "cell_type": "code",
   "execution_count": 32,
   "metadata": {},
   "outputs": [
    {
     "data": {
      "text/plain": [
       "et      6651\n",
       "sed     1606\n",
       "enim    1015\n",
       "aut      997\n",
       "ac       968\n",
       "Name: form, dtype: int64"
      ]
     },
     "execution_count": 32,
     "metadata": {},
     "output_type": "execute_result"
    }
   ],
   "source": [
    "# What do CCONJ look like?\n",
    "cconj = df[\"pos\"] == \"CCONJ\"\n",
    "cconj_counts = df[cconj][\"form\"].str.lower().value_counts()\n",
    "cconj_counts.head()"
   ]
  },
  {
   "cell_type": "code",
   "execution_count": 33,
   "metadata": {},
   "outputs": [
    {
     "data": {
      "text/plain": [
       "in    4889\n",
       "ad    2163\n",
       "ex    1253\n",
       "a     1138\n",
       "de     896\n",
       "Name: form, dtype: int64"
      ]
     },
     "execution_count": 33,
     "metadata": {},
     "output_type": "execute_result"
    }
   ],
   "source": [
    "# What do ADP look like?\n",
    "adp = df[\"pos\"] == \"ADP\"\n",
    "adp_counts = df[adp][\"form\"].str.lower().value_counts()\n",
    "adp_counts.head()"
   ]
  },
  {
   "cell_type": "code",
   "execution_count": 34,
   "metadata": {},
   "outputs": [
    {
     "data": {
      "text/plain": [
       "non     3558\n",
       "ne       294\n",
       "haud      74\n",
       "Name: form, dtype: int64"
      ]
     },
     "execution_count": 34,
     "metadata": {},
     "output_type": "execute_result"
    }
   ],
   "source": [
    "# What do PART look like?\n",
    "part = df[\"pos\"] == \"PART\"\n",
    "part_counts = df[part][\"form\"].str.lower().value_counts()\n",
    "part_counts.head()"
   ]
  },
  {
   "cell_type": "code",
   "execution_count": 35,
   "metadata": {},
   "outputs": [
    {
     "data": {
      "text/plain": [
       "PART     3704\n",
       "SCONJ     569\n",
       "ADV         7\n",
       "Name: pos, dtype: int64"
      ]
     },
     "execution_count": 35,
     "metadata": {},
     "output_type": "execute_result"
    }
   ],
   "source": [
    "negatives = [\"non\", \"ne\", \"haud\"]\n",
    "df[df[\"form\"].isin(negatives)][\"pos\"].value_counts()"
   ]
  },
  {
   "cell_type": "code",
   "execution_count": 36,
   "metadata": {},
   "outputs": [
    {
     "data": {
      "text/plain": [
       "C.           369\n",
       "Caesar       329\n",
       "Plinius      210\n",
       "Caesaris     185\n",
       "M.           181\n",
       "Caesarem     151\n",
       "L.           133\n",
       "Antonius     127\n",
       "Galliae       89\n",
       "Uitellio      87\n",
       "Antoni        83\n",
       "Uitellium     83\n",
       "Antonium      80\n",
       "Gallia        77\n",
       "Uitellius     75\n",
       "Uitellii      71\n",
       "Galliam       68\n",
       "Caesare       65\n",
       "Antonio       64\n",
       "Rhenum        62\n",
       "Name: form, dtype: int64"
      ]
     },
     "execution_count": 36,
     "metadata": {},
     "output_type": "execute_result"
    }
   ],
   "source": [
    "# What do PROPN look like?\n",
    "propn = df[\"pos\"] == \"PROPN\"\n",
    "df[propn][\"form\"].value_counts().head(20)"
   ]
  },
  {
   "cell_type": "code",
   "execution_count": 37,
   "metadata": {},
   "outputs": [
    {
     "data": {
      "text/plain": [
       "est      779\n",
       "sunt     193\n",
       "esse     156\n",
       "sit       89\n",
       "esset     83\n",
       "Name: form, dtype: int64"
      ]
     },
     "execution_count": 37,
     "metadata": {},
     "output_type": "execute_result"
    }
   ],
   "source": [
    "# What do AUX look like?\n",
    "aux = df[\"pos\"] == \"AUX\"\n",
    "aux_counts = df[aux][\"form\"].str.lower().value_counts()\n",
    "aux_counts.head()"
   ]
  },
  {
   "cell_type": "code",
   "execution_count": 38,
   "metadata": {},
   "outputs": [
    {
     "data": {
      "text/plain": [
       "unum     133\n",
       "milia    125\n",
       "uno       88\n",
       "una       83\n",
       "duo       59\n",
       "Name: form, dtype: int64"
      ]
     },
     "execution_count": 38,
     "metadata": {},
     "output_type": "execute_result"
    }
   ],
   "source": [
    "# What do NUM look like?\n",
    "num = df[\"pos\"] == \"NUM\"\n",
    "num_counts = df[num][\"form\"].str.lower().value_counts()\n",
    "num_counts.head()"
   ]
  },
  {
   "cell_type": "code",
   "execution_count": 39,
   "metadata": {},
   "outputs": [
    {
     "data": {
      "text/plain": [
       "o             75\n",
       "mehercules    10\n",
       "ecce          10\n",
       "hercule       10\n",
       "age            5\n",
       "mehercule      5\n",
       "en             4\n",
       "agedum         3\n",
       "malum          2\n",
       "io             2\n",
       "pro            2\n",
       "heu            2\n",
       "hercules       1\n",
       "heus           1\n",
       "heia           1\n",
       "medius         1\n",
       "Name: form, dtype: int64"
      ]
     },
     "execution_count": 39,
     "metadata": {},
     "output_type": "execute_result"
    }
   ],
   "source": [
    "# What do INTJ look like?\n",
    "intj = df[\"pos\"] == \"INTJ\"\n",
    "df[intj][\"form\"].str.lower().value_counts()"
   ]
  },
  {
   "cell_type": "code",
   "execution_count": 40,
   "metadata": {},
   "outputs": [
    {
     "data": {
      "text/plain": [
       "62"
      ]
     },
     "execution_count": 40,
     "metadata": {},
     "output_type": "execute_result"
    }
   ],
   "source": [
    "# How many O's begin a sentence?\n",
    "len([sentence for sentence in conll if sentence[0].form.lower() == \"o\"])"
   ]
  },
  {
   "cell_type": "code",
   "execution_count": 41,
   "metadata": {},
   "outputs": [
    {
     "data": {
      "text/plain": [
       "uox_graeca      181\n",
       "uox_lacunosa      3\n",
       "x〈sc〉             1\n",
       "Name: lemma, dtype: int64"
      ]
     },
     "execution_count": 41,
     "metadata": {},
     "output_type": "execute_result"
    }
   ],
   "source": [
    "# What do X look like?\n",
    "X = df[\"pos\"] == \"X\"\n",
    "df[X][\"lemma\"].value_counts()"
   ]
  },
  {
   "cell_type": "markdown",
   "metadata": {},
   "source": [
    "### Lemmatization\n",
    "\n",
    "#### Summary\n",
    "\n",
    "- There are 9,623 unique lemmata.\n",
    "- sum, qui and et each account for over 2% of tokens.\n",
    "- The top 20 lemmata account for almost a quarter of all tokens.\n",
    "- A third of the training data have the lemma identical to the form.\n",
    "- Less than 3% of the surface forms have more than one lemmata. This drops to less than 1% if you know the part of speech.\n",
    "- Capitalization of the lemma seems to follow that of the form, except in sentence initial positions.\n",
    "\n",
    "\n",
    "#### Notes\n",
    "- Lacunae can be lemmatized with the regular expression `\\.\\.`\n",
    "- Greek words can be lemmatized with the `is_greek_function`.\n",
    "- The Roman numeral regex by itself isn't working well enough at the moment to use it. It makes more false positives than true positives in the training data, although it makes no (correct) false negatives). But if part of speech is NUM or ADJ then it's perfect.\n",
    "- You can get almost perfect accuracy (99%) within the training data by using the lemma found in the training data for that surface form and part of speech. Many of the examples that you'd get wrong seem to be incorrectly annotated.\n",
    "- This memorization approach won't help with unseen forms though, so we can still train a model for this."
   ]
  },
  {
   "cell_type": "code",
   "execution_count": 42,
   "metadata": {},
   "outputs": [
    {
     "data": {
      "text/plain": [
       "9623"
      ]
     },
     "execution_count": 42,
     "metadata": {},
     "output_type": "execute_result"
    }
   ],
   "source": [
    "# How many lemmata are there?\n",
    "len(df[\"lemma\"].unique())"
   ]
  },
  {
   "cell_type": "code",
   "execution_count": 43,
   "metadata": {},
   "outputs": [
    {
     "data": {
      "text/plain": [
       "sum      2.947871\n",
       "qui      2.723719\n",
       "et       2.561574\n",
       "in       1.883726\n",
       "non      1.369947\n",
       "is       1.308325\n",
       "hic      1.149261\n",
       "ut       1.070693\n",
       "cum      0.836527\n",
       "ad       0.833061\n",
       "ille     0.787614\n",
       "quis     0.730228\n",
       "ab       0.716748\n",
       "sui      0.709815\n",
       "ego      0.691714\n",
       "res      0.647808\n",
       "si       0.640490\n",
       "omnis    0.636253\n",
       "sed      0.621618\n",
       "suus     0.586955\n",
       "Name: lemma, dtype: float64"
      ]
     },
     "execution_count": 43,
     "metadata": {},
     "output_type": "execute_result"
    }
   ],
   "source": [
    "# What is the distribution of lemata?\n",
    "(df[\"lemma\"].value_counts(normalize=True) * 100).head(20)"
   ]
  },
  {
   "cell_type": "code",
   "execution_count": 81,
   "metadata": {},
   "outputs": [
    {
     "data": {
      "image/png": "[encoded data removed]",
      "text/plain": [
       "<Figure size 864x576 with 1 Axes>"
      ]
     },
     "metadata": {},
     "output_type": "display_data"
    }
   ],
   "source": [
    "# What is the distribution of lemma?\n",
    "# Now we show it visually with raw counts for the top N lemmata\n",
    "N = 20\n",
    "order = df[\"lemma\"].value_counts().iloc[:N].index\n",
    "plt.figure(figsize=(12, 8))\n",
    "sns.countplot(x=\"lemma\", data=df, order=order, color=BLUE);"
   ]
  },
  {
   "cell_type": "code",
   "execution_count": 45,
   "metadata": {},
   "outputs": [
    {
     "data": {
      "text/plain": [
       "23.45394673496505"
      ]
     },
     "execution_count": 45,
     "metadata": {},
     "output_type": "execute_result"
    }
   ],
   "source": [
    "(df[\"lemma\"].value_counts(normalize=True) * 100).iloc[:20].sum()"
   ]
  },
  {
   "cell_type": "code",
   "execution_count": 46,
   "metadata": {},
   "outputs": [
    {
     "data": {
      "text/plain": [
       "count    9623.000000\n",
       "mean        1.022238\n",
       "std         0.150948\n",
       "min         1.000000\n",
       "25%         1.000000\n",
       "50%         1.000000\n",
       "75%         1.000000\n",
       "max         3.000000\n",
       "Name: count, dtype: float64"
      ]
     },
     "execution_count": 46,
     "metadata": {},
     "output_type": "execute_result"
    }
   ],
   "source": [
    "# What is the distribution of number of POS tags per lemma?\n",
    "num_pos_per_lemma = df.groupby(\"lemma\")[\"pos\"].nunique().to_frame(\"count\")\n",
    "num_pos_per_lemma[\"count\"].describe()"
   ]
  },
  {
   "cell_type": "code",
   "execution_count": 47,
   "metadata": {},
   "outputs": [
    {
     "data": {
      "text/plain": [
       "False    0.659027\n",
       "True     0.340973\n",
       "dtype: float64"
      ]
     },
     "execution_count": 47,
     "metadata": {},
     "output_type": "execute_result"
    }
   ],
   "source": [
    "# How often are the form and lemma identical?\n",
    "(df[\"form\"].str.lower() == df[\"lemma\"]).value_counts(normalize=True)"
   ]
  },
  {
   "cell_type": "code",
   "execution_count": 48,
   "metadata": {},
   "outputs": [
    {
     "data": {
      "text/html": [
       "<div>\n",
       "<style scoped>\n",
       "    .dataframe tbody tr th:only-of-type {\n",
       "        vertical-align: middle;\n",
       "    }\n",
       "\n",
       "    .dataframe tbody tr th {\n",
       "        vertical-align: top;\n",
       "    }\n",
       "\n",
       "    .dataframe thead th {\n",
       "        text-align: right;\n",
       "    }\n",
       "</style>\n",
       "<table border=\"1\" class=\"dataframe\">\n",
       "  <thead>\n",
       "    <tr style=\"text-align: right;\">\n",
       "      <th></th>\n",
       "      <th>form</th>\n",
       "      <th>lemma</th>\n",
       "      <th>pos</th>\n",
       "    </tr>\n",
       "  </thead>\n",
       "  <tbody>\n",
       "    <tr>\n",
       "      <th>217979</th>\n",
       "      <td>True</td>\n",
       "      <td>True</td>\n",
       "      <td>True</td>\n",
       "    </tr>\n",
       "    <tr>\n",
       "      <th>244065</th>\n",
       "      <td>True</td>\n",
       "      <td>True</td>\n",
       "      <td>True</td>\n",
       "    </tr>\n",
       "    <tr>\n",
       "      <th>247156</th>\n",
       "      <td>True</td>\n",
       "      <td>True</td>\n",
       "      <td>True</td>\n",
       "    </tr>\n",
       "  </tbody>\n",
       "</table>\n",
       "</div>"
      ],
      "text/plain": [
       "        form  lemma   pos\n",
       "217979  True   True  True\n",
       "244065  True   True  True\n",
       "247156  True   True  True"
      ]
     },
     "execution_count": 48,
     "metadata": {},
     "output_type": "execute_result"
    }
   ],
   "source": [
    "# Lacunae\n",
    "is_lacuna = df[\"lemma\"] == \"uox_lacunosa\"\n",
    "has_two_periods = df[\"form\"].str.contains(\"\\.\\.\")\n",
    "df[is_lacuna] == df[has_two_periods]"
   ]
  },
  {
   "cell_type": "code",
   "execution_count": 49,
   "metadata": {},
   "outputs": [
    {
     "data": {
      "text/plain": [
       "uox_graeca    183\n",
       "Name: lemma, dtype: int64"
      ]
     },
     "execution_count": 49,
     "metadata": {},
     "output_type": "execute_result"
    }
   ],
   "source": [
    "# Greek words\n",
    "def is_greek_char(ch):\n",
    "    return char_class(ch) == \"GREEK\"\n",
    "\n",
    "\n",
    "def is_greek_word(word):\n",
    "    return any(map(is_greek_char, word))\n",
    "\n",
    "\n",
    "# Does the `is_greek_word` function find only Greek words?\n",
    "df[df[\"form\"].apply(is_greek_word)][\"lemma\"].value_counts()"
   ]
  },
  {
   "cell_type": "code",
   "execution_count": 50,
   "metadata": {},
   "outputs": [
    {
     "data": {
      "text/plain": [
       "False    259462\n",
       "Name: lemma, dtype: int64"
      ]
     },
     "execution_count": 50,
     "metadata": {},
     "output_type": "execute_result"
    }
   ],
   "source": [
    "# Does the `is_greek_word` function miss any Greek words?\n",
    "(df[~df[\"form\"].apply(is_greek_word)][\"lemma\"] == \"uox_graeca\").value_counts()"
   ]
  },
  {
   "cell_type": "code",
   "execution_count": 51,
   "metadata": {},
   "outputs": [
    {
     "data": {
      "text/html": [
       "<div>\n",
       "<style scoped>\n",
       "    .dataframe tbody tr th:only-of-type {\n",
       "        vertical-align: middle;\n",
       "    }\n",
       "\n",
       "    .dataframe tbody tr th {\n",
       "        vertical-align: top;\n",
       "    }\n",
       "\n",
       "    .dataframe thead th {\n",
       "        text-align: right;\n",
       "    }\n",
       "</style>\n",
       "<table border=\"1\" class=\"dataframe\">\n",
       "  <thead>\n",
       "    <tr style=\"text-align: right;\">\n",
       "      <th></th>\n",
       "      <th>form</th>\n",
       "      <th>lemma</th>\n",
       "      <th>pos</th>\n",
       "    </tr>\n",
       "  </thead>\n",
       "  <tbody>\n",
       "    <tr>\n",
       "      <th>1805</th>\n",
       "      <td>ui</td>\n",
       "      <td>uis</td>\n",
       "      <td>NOUN</td>\n",
       "    </tr>\n",
       "    <tr>\n",
       "      <th>2009</th>\n",
       "      <td>diu</td>\n",
       "      <td>diu</td>\n",
       "      <td>ADV</td>\n",
       "    </tr>\n",
       "    <tr>\n",
       "      <th>2759</th>\n",
       "      <td>cui</td>\n",
       "      <td>qui</td>\n",
       "      <td>PRON</td>\n",
       "    </tr>\n",
       "    <tr>\n",
       "      <th>3956</th>\n",
       "      <td>cui</td>\n",
       "      <td>qui</td>\n",
       "      <td>PRON</td>\n",
       "    </tr>\n",
       "    <tr>\n",
       "      <th>5756</th>\n",
       "      <td>cui</td>\n",
       "      <td>qui</td>\n",
       "      <td>PRON</td>\n",
       "    </tr>\n",
       "  </tbody>\n",
       "</table>\n",
       "</div>"
      ],
      "text/plain": [
       "     form lemma   pos\n",
       "1805   ui   uis  NOUN\n",
       "2009  diu   diu   ADV\n",
       "2759  cui   qui  PRON\n",
       "3956  cui   qui  PRON\n",
       "5756  cui   qui  PRON"
      ]
     },
     "execution_count": 51,
     "metadata": {},
     "output_type": "execute_result"
    }
   ],
   "source": [
    "# Roman numerals\n",
    "roman_numeral_pattern = re.compile(\n",
    "    r\"^M{0,4}(CM|CD|D?C{0,4})(XC|XL|L?X{0,4})(IX|I[VU]|[VU]?I{0,4})$\", re.IGNORECASE\n",
    ")\n",
    "is_really_roman_numeral = df[\"lemma\"] == \"numerus_romanus\"\n",
    "is_predicted_roman_numeral = df[\"form\"].str.match(roman_numeral_pattern)\n",
    "df[~is_really_roman_numeral & is_predicted_roman_numeral].head()"
   ]
  },
  {
   "cell_type": "code",
   "execution_count": 52,
   "metadata": {},
   "outputs": [
    {
     "data": {
      "text/plain": [
       "cui    265\n",
       "diu     99\n",
       "di      58\n",
       "ui      57\n",
       "ii      13\n",
       "mi       8\n",
       "i        3\n",
       "d        1\n",
       "c        1\n",
       "Name: form, dtype: int64"
      ]
     },
     "execution_count": 52,
     "metadata": {},
     "output_type": "execute_result"
    }
   ],
   "source": [
    "df[~is_really_roman_numeral & is_predicted_roman_numeral][\n",
    "    \"form\"\n",
    "].str.lower().value_counts()"
   ]
  },
  {
   "cell_type": "code",
   "execution_count": 147,
   "metadata": {},
   "outputs": [
    {
     "data": {
      "text/plain": [
       "PRON     278\n",
       "NOUN     116\n",
       "ADV       99\n",
       "DET        8\n",
       "VERB       3\n",
       "PROPN      1\n",
       "Name: pos, dtype: int64"
      ]
     },
     "execution_count": 147,
     "metadata": {},
     "output_type": "execute_result"
    }
   ],
   "source": [
    "df[~is_really_roman_numeral & is_predicted_roman_numeral][\"pos\"].value_counts()"
   ]
  },
  {
   "cell_type": "code",
   "execution_count": 59,
   "metadata": {},
   "outputs": [
    {
     "data": {
      "text/plain": [
       "count    43767.000000\n",
       "mean         1.029931\n",
       "std          0.182319\n",
       "min          1.000000\n",
       "25%          1.000000\n",
       "50%          1.000000\n",
       "75%          1.000000\n",
       "max          4.000000\n",
       "Name: lemma, dtype: float64"
      ]
     },
     "execution_count": 59,
     "metadata": {},
     "output_type": "execute_result"
    }
   ],
   "source": [
    "# What is the distribution of number of lemmata per surface form?\n",
    "df.groupby(\"form\")[\"lemma\"].nunique().describe()"
   ]
  },
  {
   "cell_type": "code",
   "execution_count": 63,
   "metadata": {},
   "outputs": [
    {
     "data": {
      "text/plain": [
       "False    0.972102\n",
       "True     0.027898\n",
       "Name: lemma, dtype: float64"
      ]
     },
     "execution_count": 63,
     "metadata": {},
     "output_type": "execute_result"
    }
   ],
   "source": [
    "# How many surface forms have more than one lemma?\n",
    "(df.groupby(\"form\")[\"lemma\"].nunique() > 1).value_counts(normalize=True)"
   ]
  },
  {
   "cell_type": "code",
   "execution_count": 107,
   "metadata": {},
   "outputs": [
    {
     "data": {
      "text/plain": [
       "False    0.995373\n",
       "True     0.004627\n",
       "Name: lemma, dtype: float64"
      ]
     },
     "execution_count": 107,
     "metadata": {},
     "output_type": "execute_result"
    }
   ],
   "source": [
    "# How many surface forms and POS combinations have more than one lemma?\n",
    "(df.groupby([\"form\", \"pos\"])[\"lemma\"].nunique() > 1).value_counts(normalize=True)"
   ]
  },
  {
   "cell_type": "code",
   "execution_count": 141,
   "metadata": {},
   "outputs": [
    {
     "data": {
      "text/plain": [
       "form         pos \n",
       "uisus        VERB    True\n",
       "uniuersi     NOUN    True\n",
       "uniuersorum  NOUN    True\n",
       "uoluerit     VERB    True\n",
       "uoluit       VERB    True\n",
       "Name: lemma, dtype: bool"
      ]
     },
     "execution_count": 141,
     "metadata": {},
     "output_type": "execute_result"
    }
   ],
   "source": [
    "# What are these combinations?\n",
    "tmp = df.groupby([\"form\", \"pos\"])[\"lemma\"].nunique() > 1\n",
    "ambiguous = tmp[tmp]\n",
    "ambiguous.tail()"
   ]
  },
  {
   "cell_type": "code",
   "execution_count": 80,
   "metadata": {},
   "outputs": [
    {
     "data": {
      "text/plain": [
       "False    0.96159\n",
       "True     0.03841\n",
       "dtype: float64"
      ]
     },
     "execution_count": 80,
     "metadata": {},
     "output_type": "execute_result"
    }
   ],
   "source": [
    "# Does word initial capitalization of the lemma reflect that found in the form?\n",
    "(df[\"form\"].str[0].str.isupper() != df[\"lemma\"].str[0].str.isupper()).value_counts(normalize=True)"
   ]
  }
 ],
 "metadata": {
  "kernelspec": {
   "display_name": "Python 3",
   "language": "python",
   "name": "python3"
  },
  "language_info": {
   "codemirror_mode": {
    "name": "ipython",
    "version": 3
   },
   "file_extension": ".py",
   "mimetype": "text/x-python",
   "name": "python",
   "nbconvert_exporter": "python",
   "pygments_lexer": "ipython3",
   "version": "3.7.5"
  }
 },
 "nbformat": 4,
 "nbformat_minor": 2
}
